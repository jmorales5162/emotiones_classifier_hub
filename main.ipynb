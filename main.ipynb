{
 "cells": [
  {
   "cell_type": "markdown",
   "metadata": {},
   "source": [
    "\n",
    "---\n",
    "*\n",
    "*\n",
    "*\n",
    "*\n",
    "*\n",
    "*\n",
    "*\n",
    "*\n",
    "*\n",
    "*\n",
    "IMPORTANTE: hay final, despues de que se muetran los modelos de cajas hay que aplicar criterios de hipotesis\n",
    "eso se dio en la clase, en los cuadernos hay un ejemplo\n",
    "-\n",
    "-\n",
    "-\n",
    "-\n",
    "-----"
   ]
  },
  {
   "cell_type": "code",
   "execution_count": 1,
   "metadata": {
    "executionInfo": {
     "elapsed": 11269,
     "status": "ok",
     "timestamp": 1709503914044,
     "user": {
      "displayName": "Rafael Turró",
      "userId": "10017933491350242166"
     },
     "user_tz": -60
    },
    "id": "i9NOLbLGN6wd"
   },
   "outputs": [
    {
     "name": "stderr",
     "output_type": "stream",
     "text": [
      "/tmp/ipykernel_335670/1198335902.py:4: DeprecationWarning: \n",
      "Pyarrow will become a required dependency of pandas in the next major release of pandas (pandas 3.0),\n",
      "(to allow more performant data types, such as the Arrow string type, and better interoperability with other libraries)\n",
      "but was not found to be installed on your system.\n",
      "If this would cause problems for you,\n",
      "please provide us feedback at https://github.com/pandas-dev/pandas/issues/54466\n",
      "        \n",
      "  import pandas as pd\n"
     ]
    },
    {
     "ename": "ModuleNotFoundError",
     "evalue": "No module named 'cv2'",
     "output_type": "error",
     "traceback": [
      "\u001b[0;31m---------------------------------------------------------------------------\u001b[0m",
      "\u001b[0;31mModuleNotFoundError\u001b[0m                       Traceback (most recent call last)",
      "Cell \u001b[0;32mIn[1], line 8\u001b[0m\n\u001b[1;32m      6\u001b[0m \u001b[38;5;28;01mimport\u001b[39;00m \u001b[38;5;21;01mscipy\u001b[39;00m\u001b[38;5;21;01m.\u001b[39;00m\u001b[38;5;21;01mstats\u001b[39;00m \u001b[38;5;28;01mas\u001b[39;00m \u001b[38;5;21;01mstats\u001b[39;00m\n\u001b[1;32m      7\u001b[0m \u001b[38;5;28;01mimport\u001b[39;00m \u001b[38;5;21;01mmatplotlib\u001b[39;00m\u001b[38;5;21;01m.\u001b[39;00m\u001b[38;5;21;01mpyplot\u001b[39;00m \u001b[38;5;28;01mas\u001b[39;00m \u001b[38;5;21;01mplt\u001b[39;00m\n\u001b[0;32m----> 8\u001b[0m \u001b[38;5;28;01mimport\u001b[39;00m \u001b[38;5;21;01mcv2\u001b[39;00m\n\u001b[1;32m      9\u001b[0m \u001b[38;5;28;01mfrom\u001b[39;00m \u001b[38;5;21;01mkeras\u001b[39;00m\u001b[38;5;21;01m.\u001b[39;00m\u001b[38;5;21;01mutils\u001b[39;00m \u001b[38;5;28;01mimport\u001b[39;00m to_categorical\n\u001b[1;32m     11\u001b[0m \u001b[38;5;28;01mfrom\u001b[39;00m \u001b[38;5;21;01mskimage\u001b[39;00m \u001b[38;5;28;01mimport\u001b[39;00m feature\n",
      "\u001b[0;31mModuleNotFoundError\u001b[0m: No module named 'cv2'"
     ]
    }
   ],
   "source": [
    "#esto es una prueba\n",
    "import numpy as np\n",
    "import time\n",
    "from datetime import datetime\n",
    "import pandas as pd\n",
    "import os\n",
    "import scipy.stats as stats\n",
    "import matplotlib.pyplot as plt\n",
    "import cv2\n",
    "from keras.utils import to_categorical\n",
    "\n",
    "from skimage import feature\n",
    "from skimage.io import imread\n",
    "from skimage.color import rgb2gray\n",
    "\n",
    "from sklearn.svm import SVC\n",
    "from sklearn.metrics import f1_score\n",
    "from sklearn import metrics\n",
    "from sklearn.neighbors import KNeighborsClassifier\n",
    "from sklearn import svm\n",
    "from sklearn.model_selection import cross_validate\n",
    "from sklearn.metrics import make_scorer, precision_score, recall_score, f1_score, accuracy_score\n",
    "from sklearn.model_selection import train_test_split\n",
    "from sklearn.linear_model import LogisticRegression\n",
    "from sklearn.model_selection import cross_val_score\n",
    "from sklearn.ensemble import RandomForestClassifier\n",
    "from statsmodels.stats.multicomp import pairwise_tukeyhsd, MultiComparison\n",
    "from sklearn.metrics import roc_auc_score\n",
    "import warnings\n",
    "warnings.filterwarnings('ignore')\n",
    "\n",
    "hora_actual = []\n",
    "now = datetime.now() # current date and time\n",
    "hora_actual.append(now.strftime(\"%d/%m/%Y %H:%M:%S\"))\n"
   ]
  },
  {
   "cell_type": "code",
   "execution_count": 2,
   "metadata": {
    "colab": {
     "base_uri": "https://localhost:8080/"
    },
    "executionInfo": {
     "elapsed": 9198,
     "status": "ok",
     "timestamp": 1709503923239,
     "user": {
      "displayName": "Rafael Turró",
      "userId": "10017933491350242166"
     },
     "user_tz": -60
    },
    "id": "eDrelQQmOBgH",
    "outputId": "7f23ff9b-663d-492b-a19f-793578ffc7b9"
   },
   "outputs": [
    {
     "name": "stdout",
     "output_type": "stream",
     "text": [
      "Requirement already satisfied: kaggle in /usr/local/lib/python3.10/dist-packages (1.5.16)\n",
      "Requirement already satisfied: six>=1.10 in /usr/local/lib/python3.10/dist-packages (from kaggle) (1.16.0)\n",
      "Requirement already satisfied: certifi in /usr/local/lib/python3.10/dist-packages (from kaggle) (2024.2.2)\n",
      "Requirement already satisfied: python-dateutil in /usr/local/lib/python3.10/dist-packages (from kaggle) (2.8.2)\n",
      "Requirement already satisfied: requests in /usr/local/lib/python3.10/dist-packages (from kaggle) (2.31.0)\n",
      "Requirement already satisfied: tqdm in /usr/local/lib/python3.10/dist-packages (from kaggle) (4.66.2)\n",
      "Requirement already satisfied: python-slugify in /usr/local/lib/python3.10/dist-packages (from kaggle) (8.0.4)\n",
      "Requirement already satisfied: urllib3 in /usr/local/lib/python3.10/dist-packages (from kaggle) (2.0.7)\n",
      "Requirement already satisfied: bleach in /usr/local/lib/python3.10/dist-packages (from kaggle) (6.1.0)\n",
      "Requirement already satisfied: webencodings in /usr/local/lib/python3.10/dist-packages (from bleach->kaggle) (0.5.1)\n",
      "Requirement already satisfied: text-unidecode>=1.3 in /usr/local/lib/python3.10/dist-packages (from python-slugify->kaggle) (1.3)\n",
      "Requirement already satisfied: charset-normalizer<4,>=2 in /usr/local/lib/python3.10/dist-packages (from requests->kaggle) (3.3.2)\n",
      "Requirement already satisfied: idna<4,>=2.5 in /usr/local/lib/python3.10/dist-packages (from requests->kaggle) (3.6)\n"
     ]
    }
   ],
   "source": [
    "# Install Kaggle package\n",
    "!pip install kaggle"
   ]
  },
  {
   "cell_type": "code",
   "execution_count": 2,
   "metadata": {
    "colab": {
     "base_uri": "https://localhost:8080/",
     "height": 95
    },
    "executionInfo": {
     "elapsed": 28862,
     "status": "ok",
     "timestamp": 1709503952093,
     "user": {
      "displayName": "Rafael Turró",
      "userId": "10017933491350242166"
     },
     "user_tz": -60
    },
    "id": "nFIw2ZIbOpMa",
    "outputId": "b8f28297-f2a0-4d46-eae3-0aa4ce78d922"
   },
   "outputs": [
    {
     "ename": "ModuleNotFoundError",
     "evalue": "No module named 'google'",
     "output_type": "error",
     "traceback": [
      "\u001b[0;31m---------------------------------------------------------------------------\u001b[0m",
      "\u001b[0;31mModuleNotFoundError\u001b[0m                       Traceback (most recent call last)",
      "Cell \u001b[0;32mIn[2], line 1\u001b[0m\n\u001b[0;32m----> 1\u001b[0m \u001b[38;5;28;01mfrom\u001b[39;00m \u001b[38;5;21;01mgoogle\u001b[39;00m\u001b[38;5;21;01m.\u001b[39;00m\u001b[38;5;21;01mcolab\u001b[39;00m \u001b[38;5;28;01mimport\u001b[39;00m files\n\u001b[1;32m      2\u001b[0m uploaded \u001b[38;5;241m=\u001b[39m files\u001b[38;5;241m.\u001b[39mupload()\n\u001b[1;32m      4\u001b[0m \u001b[38;5;28;01mfor\u001b[39;00m fn \u001b[38;5;129;01min\u001b[39;00m uploaded\u001b[38;5;241m.\u001b[39mkeys():\n",
      "\u001b[0;31mModuleNotFoundError\u001b[0m: No module named 'google'"
     ]
    }
   ],
   "source": [
    "from google.colab import files\n",
    "uploaded = files.upload()\n",
    "\n",
    "for fn in uploaded.keys():\n",
    "    print(f'User uploaded file \"{fn}\" with length {len(uploaded[fn])} bytes')"
   ]
  },
  {
   "cell_type": "code",
   "execution_count": 4,
   "metadata": {
    "executionInfo": {
     "elapsed": 595,
     "status": "ok",
     "timestamp": 1709503966241,
     "user": {
      "displayName": "Rafael Turró",
      "userId": "10017933491350242166"
     },
     "user_tz": -60
    },
    "id": "bxCnIM3yOzw6"
   },
   "outputs": [],
   "source": [
    "# Copiar el archivo json en ~/.kaggle porque así lo requiere el API de Kaggle\n",
    "!mkdir -p ~/.kaggle\n",
    "!cp kaggle.json ~/.kaggle/\n",
    "\n",
    "# Cambio de permisos para evitar warning de la herramienta de kaggle\n",
    "!chmod 600 ~/.kaggle/kaggle.json"
   ]
  },
  {
   "cell_type": "code",
   "execution_count": 5,
   "metadata": {
    "colab": {
     "base_uri": "https://localhost:8080/"
    },
    "executionInfo": {
     "elapsed": 1134,
     "status": "ok",
     "timestamp": 1709503971445,
     "user": {
      "displayName": "Rafael Turró",
      "userId": "10017933491350242166"
     },
     "user_tz": -60
    },
    "id": "ANGR72j6O4t0",
    "outputId": "ccc8fd31-1d1c-4562-b93d-a995e5d6f022"
   },
   "outputs": [
    {
     "name": "stdout",
     "output_type": "stream",
     "text": [
      "emotion-recognition-dataset.zip: Skipping, found more recently modified local copy (use --force to force download)\n"
     ]
    }
   ],
   "source": [
    "# Descarga del dataset sujaykapadnis/emotion-recognition-dataset\n",
    "# sujaykapadnis: nombre del usuario que tiene el dataset\n",
    "# emotion-recognition-dataset: nombre del dataset\n",
    "# Desde kaggle se puede copiar este comando\n",
    "\n",
    "!kaggle datasets download -d sujaykapadnis/emotion-recognition-dataset\n"
   ]
  },
  {
   "cell_type": "code",
   "execution_count": 8,
   "metadata": {
    "colab": {
     "base_uri": "https://localhost:8080/"
    },
    "executionInfo": {
     "elapsed": 929,
     "status": "ok",
     "timestamp": 1709504028218,
     "user": {
      "displayName": "Rafael Turró",
      "userId": "10017933491350242166"
     },
     "user_tz": -60
    },
    "id": "KCPJAVKyPWfa",
    "outputId": "a722a890-1f9d-455e-be22-9a627a69c809"
   },
   "outputs": [
    {
     "name": "stdout",
     "output_type": "stream",
     "text": [
      "replace data.csv? [y]es, [n]o, [A]ll, [N]one, [r]ename: "
     ]
    }
   ],
   "source": [
    "# Unzip de los archivos\n",
    "!unzip -q emotion-recognition-dataset.zip"
   ]
  },
  {
   "cell_type": "code",
   "execution_count": 48,
   "metadata": {
    "executionInfo": {
     "elapsed": 248,
     "status": "ok",
     "timestamp": 1709504032573,
     "user": {
      "displayName": "Rafael Turró",
      "userId": "10017933491350242166"
     },
     "user_tz": -60
    },
    "id": "d0KJqstKN6we"
   },
   "outputs": [],
   "source": [
    "def load_data(path):\n",
    "    X, y = [], []\n",
    "    #1205 es la menor cantidad de img en cada clase\n",
    "    #En este caso solo se consideran 3740 img\n",
    "    # de cada clase debido a que es la clase que menos imagenes posee\n",
    "    for label in CLASSES:\n",
    "        for img in os.listdir(os.path.join(path, label))[:100]: # OJO for img in os.listdir(os.path.join(path, label))[:1466]:\n",
    "            full_path = os.path.join(path, label, img)\n",
    "            image = cv2.imread(full_path)\n",
    "            image = cv2.resize(image, SIZE)\n",
    "            image = cv2.cvtColor(image, cv2.COLOR_BGR2GRAY)\n",
    "            #image = cv2.cvtColor(image, cv2.COLOR_BGR2RGB)\n",
    "            image = np.asarray(image).astype(np.float32) / 255.0\n",
    "            X.append(image)\n",
    "            y.append(CLASSES.index(label))\n",
    "\n",
    "    y = to_categorical(y, num_classes=NUM_CLASSES)\n",
    "    y = np.argmax(y, axis=1)\n",
    "    return np.array(X), np.array(y)\n"
   ]
  },
  {
   "cell_type": "code",
   "execution_count": 50,
   "metadata": {
    "colab": {
     "base_uri": "https://localhost:8080/"
    },
    "executionInfo": {
     "elapsed": 269,
     "status": "ok",
     "timestamp": 1709504039021,
     "user": {
      "displayName": "Rafael Turró",
      "userId": "10017933491350242166"
     },
     "user_tz": -60
    },
    "id": "Q8VlcpMAQH2m",
    "outputId": "01c777b1-b288-483d-cf30-cb5814fbeff5"
   },
   "outputs": [
    {
     "name": "stdout",
     "output_type": "stream",
     "text": [
      "['Ahegao', 'Angry', 'Happy', 'Neutral', 'Sad', 'Surprise']\n"
     ]
    }
   ],
   "source": [
    "TRAIN_PATH = './dataset'\n",
    "SIZE = (112, 112)\n",
    "CLASSES = []\n",
    "#CLASSES = ['Happy','Neutral','Sad']\n",
    "for class_ in os.listdir(TRAIN_PATH):\n",
    "    CLASSES.append(class_)\n",
    "NUM_CLASSES = len(CLASSES)\n",
    "print(CLASSES)"
   ]
  },
  {
   "cell_type": "code",
   "execution_count": 51,
   "metadata": {
    "executionInfo": {
     "elapsed": 6660,
     "status": "ok",
     "timestamp": 1709504046877,
     "user": {
      "displayName": "Rafael Turró",
      "userId": "10017933491350242166"
     },
     "user_tz": -60
    },
    "id": "T-_GNaHMQL9t"
   },
   "outputs": [],
   "source": [
    "X_train, y_train = load_data(TRAIN_PATH)\n",
    "cant_imag , ancho, alto = X_train.shape"
   ]
  },
  {
   "cell_type": "code",
   "execution_count": 52,
   "metadata": {
    "executionInfo": {
     "elapsed": 4921,
     "status": "ok",
     "timestamp": 1709504051784,
     "user": {
      "displayName": "Rafael Turró",
      "userId": "10017933491350242166"
     },
     "user_tz": -60
    },
    "id": "uOFMkle7QKUC"
   },
   "outputs": [],
   "source": [
    "vectores_hog=[]\n",
    "for i in range(cant_imag):\n",
    "    vector_caracteristicas = feature.hog(X_train[i], feature_vector=True)\n",
    "    vectores_hog.append(vector_caracteristicas)\n",
    "vectores_hog = np.array(vectores_hog)"
   ]
  },
  {
   "cell_type": "code",
   "execution_count": 55,
   "metadata": {
    "executionInfo": {
     "elapsed": 265,
     "status": "ok",
     "timestamp": 1709504056037,
     "user": {
      "displayName": "Rafael Turró",
      "userId": "10017933491350242166"
     },
     "user_tz": -60
    },
    "id": "tMeJ4zOkN6wf"
   },
   "outputs": [],
   "source": [
    "def calculate_metrics(classifier, X_train, y_train, cv):\n",
    "    scoring = ['accuracy','precision_macro', 'recall_macro', 'precision_micro', 'recall_micro', 'f1_macro']\n",
    "    scores = cross_validate(classifier, X_train, y_train, cv=20, scoring=scoring)\n",
    "    mean_accuracy = np.mean(scores['test_accuracy'])\n",
    "    mean_precision_macro = np.mean(scores['test_precision_macro'])\n",
    "    mean_recall_macro = np.mean(scores['test_recall_macro'])\n",
    "    mean_precision_micro = np.mean(scores['test_precision_micro'])\n",
    "    mean_recall_micro = np.mean(scores['test_recall_micro'])\n",
    "    mean_f1_macro = np.mean(scores['test_f1_macro'])\n",
    "\n",
    "    metrics_dict = {\n",
    "        'accuracy'          : mean_accuracy,\n",
    "        'precision_macro'   : mean_precision_macro,\n",
    "        'recall_macro'      : mean_recall_macro,\n",
    "        'precision_micro'   : mean_precision_micro,\n",
    "        'recall_micro'      : mean_recall_micro,\n",
    "        'f1_macro'          : mean_f1_macro\n",
    "    }\n",
    "\n",
    "    return metrics_dict"
   ]
  },
  {
   "cell_type": "code",
   "execution_count": 56,
   "metadata": {
    "executionInfo": {
     "elapsed": 278,
     "status": "ok",
     "timestamp": 1709504058049,
     "user": {
      "displayName": "Rafael Turró",
      "userId": "10017933491350242166"
     },
     "user_tz": -60
    },
    "id": "EZvWHxWNN6wf"
   },
   "outputs": [],
   "source": [
    "def append_data_to_excel(excel_name, df):\n",
    "    with pd.ExcelWriter(excel_name,\n",
    "        mode=\"a\",\n",
    "        engine=\"openpyxl\",\n",
    "        if_sheet_exists=\"overlay\") as writer:\n",
    "        start_row = 0\n",
    "        header = True\n",
    "        if os.path.exists(excel_name):\n",
    "            df_source = pd.read_excel(excel_name, engine=\"openpyxl\").iloc[:,1:]\n",
    "        if df_source is not None:\n",
    "            n, m = df_source.shape\n",
    "            header = False if n > 0 else True\n",
    "            start_row = n + 1 if n > 0 else n\n",
    "\n",
    "        df.to_excel(writer, sheet_name=\"Sheet1\",startcol=0, startrow = start_row, header=header)"
   ]
  },
  {
   "cell_type": "code",
   "execution_count": 57,
   "metadata": {
    "executionInfo": {
     "elapsed": 254,
     "status": "ok",
     "timestamp": 1709504059983,
     "user": {
      "displayName": "Rafael Turró",
      "userId": "10017933491350242166"
     },
     "user_tz": -60
    },
    "id": "i2dDCrhJN6wf"
   },
   "outputs": [],
   "source": [
    "def KNN_model(vectores_hog , y_train):\n",
    "    #n_neighbors = [1 , 5 , 31 , 61]\n",
    "    n_neighbors = [1 , 5]\n",
    "    for k in n_neighbors:\n",
    "        tic = time.perf_counter()\n",
    "        knn_model = KNeighborsClassifier(n_neighbors=k)\n",
    "        metrics_knn = calculate_metrics(knn_model, vectores_hog, y_train, cv=20)\n",
    "        toc = time.perf_counter()\n",
    "\n",
    "        data_knn_model = {\n",
    "            'accuracy'          : metrics_knn['accuracy'],\n",
    "            'precision_macro'   : metrics_knn['precision_macro'],\n",
    "            'recall_macro'      : metrics_knn['recall_macro'],\n",
    "            'precision_micro'   : metrics_knn['precision_micro'],\n",
    "            'recall_micro'      : metrics_knn['recall_micro'],\n",
    "            'f1_macro'          : metrics_knn['f1_macro'],\n",
    "            'tiempo (s)'        : [round((toc-tic), 2)]\n",
    "        }\n",
    "\n",
    "        df_knn_model = pd.DataFrame(data_knn_model, index = [\"KNN n_neighbors = \"+str(k)])\n",
    "        append_data_to_excel('./Metricas.xlsx', df_knn_model)\n",
    "\n",
    "        print('Metrics for KNN with k =', k)\n",
    "        print(metrics_knn)\n",
    "\n",
    "    return data_knn_model['accuracy']"
   ]
  },
  {
   "cell_type": "code",
   "execution_count": 58,
   "metadata": {
    "executionInfo": {
     "elapsed": 236,
     "status": "ok",
     "timestamp": 1709505055814,
     "user": {
      "displayName": "Rafael Turró",
      "userId": "10017933491350242166"
     },
     "user_tz": -60
    },
    "id": "2zgzw9QkN6wf"
   },
   "outputs": [],
   "source": [
    "def LR_model(vectores_hog , y_train):  \n",
    "    solver = ['lbfgs', 'newton-cg'] \n",
    "    for label in solver:\n",
    "      tic = time.perf_counter()\n",
    "      LR_model = LogisticRegression(penalty=None, solver = label, max_iter=10000, multi_class='multinomial')\n",
    "      #LR_model = LogisticRegression(penalty=\"l1\", solver = label, max_iter=5000, multi_class='multinomial')\n",
    "      metrics_lr = calculate_metrics(LR_model, vectores_hog, y_train, cv=20)\n",
    "      toc = time.perf_counter()\n",
    "\n",
    "      data_lr_model = {\n",
    "          'accuracy'          : metrics_lr['accuracy'],\n",
    "          'precision_macro'   : metrics_lr['precision_macro'],\n",
    "          'recall_macro'      : metrics_lr['recall_macro'],\n",
    "          'precision_micro'   : metrics_lr['precision_micro'],\n",
    "          'recall_micro'      : metrics_lr['recall_micro'],\n",
    "          'f1_macro'          : metrics_lr['f1_macro'],\n",
    "          'tiempo (s)'        : [round((toc-tic), 2)]\n",
    "      }\n",
    "\n",
    "      df_lr_model = pd.DataFrame(data_lr_model, index = [\"LR con solver = \" + label])\n",
    "      append_data_to_excel('./Metricas.xlsx', df_lr_model)\n",
    "\n",
    "      print('Metrics for LR model:')\n",
    "      print(df_lr_model)\n",
    "\n",
    "    return data_lr_model['accuracy']"
   ]
  },
  {
   "cell_type": "code",
   "execution_count": 59,
   "metadata": {
    "executionInfo": {
     "elapsed": 292,
     "status": "ok",
     "timestamp": 1709504636882,
     "user": {
      "displayName": "Rafael Turró",
      "userId": "10017933491350242166"
     },
     "user_tz": -60
    },
    "id": "4ZoSRI8Kodd6"
   },
   "outputs": [],
   "source": [
    "def SVM_model(vectores_hog , y_train): \n",
    "    #kernel = ['linear', 'poly', 'rbf', 'sigmoid', 'precomputed']\n",
    "    #kernel = ['linear', 'poly', 'rbf']\n",
    "    kernel = ['linear', 'poly']\n",
    "    for label in kernel:\n",
    "      tic = time.perf_counter()\n",
    "      svm_model = svm.SVC(kernel=label)\n",
    "      metrics_svm = calculate_metrics(svm_model, vectores_hog, y_train, cv=20)\n",
    "      toc = time.perf_counter()\n",
    "      data_svm_model = {\n",
    "          'accuracy'          : metrics_svm['accuracy'],\n",
    "          'precision_macro'   : metrics_svm['precision_macro'],\n",
    "          'recall_macro'      : metrics_svm['recall_macro'],\n",
    "          'precision_micro'   : metrics_svm['precision_micro'],\n",
    "          'recall_micro'      : metrics_svm['recall_micro'],\n",
    "          'f1_macro'          : metrics_svm['f1_macro'],\n",
    "          'tiempo (s)'        : [round((toc-tic), 2)]\n",
    "      }\n",
    "      df_svm_model = pd.DataFrame(data_svm_model, index = [\"SVM para kernel \" + label])\n",
    "      append_data_to_excel('./Metricas.xlsx', df_svm_model)\n",
    "\n",
    "      print('Metrics for SVM:')\n",
    "      print(df_svm_model)\n",
    "\n",
    "    return data_svm_model['accuracy']"
   ]
  },
  {
   "cell_type": "code",
   "execution_count": 60,
   "metadata": {},
   "outputs": [],
   "source": [
    "def Random_Forest_model(vectores_hog, y_train):\n",
    "    #estimators = [10, 50, 100, 200]\n",
    "    estimators = [10, 50]  \n",
    "    for label in estimators:\n",
    "        tic = time.perf_counter()\n",
    "        rf_model = RandomForestClassifier(n_estimators=label)\n",
    "        metrics_rf = calculate_metrics(rf_model, vectores_hog, y_train, cv=20)\n",
    "        toc = time.perf_counter()\n",
    "\n",
    "        data_rf_model = {\n",
    "            'accuracy'          : metrics_rf['accuracy'],\n",
    "            'precision_macro'   : metrics_rf['precision_macro'],\n",
    "            'recall_macro'      : metrics_rf['recall_macro'],\n",
    "            'precision_micro'   : metrics_rf['precision_micro'],\n",
    "            'recall_micro'      : metrics_rf['recall_micro'],\n",
    "            'f1_macro'          : metrics_rf['f1_macro'],\n",
    "            'tiempo (s)'        : [round((toc-tic), 2)]\n",
    "        }\n",
    "\n",
    "        df_rf_model = pd.DataFrame(data_rf_model, index = [\"Random Forest n_estimators = \"+str(label)])\n",
    "        append_data_to_excel('./Metricas.xlsx', df_rf_model)\n",
    "\n",
    "        print('Metrics for Random Forest with n_estimators =', label)\n",
    "        print(metrics_rf)\n",
    "\n",
    "    return data_rf_model['accuracy']"
   ]
  },
  {
   "cell_type": "code",
   "execution_count": 61,
   "metadata": {},
   "outputs": [
    {
     "name": "stdout",
     "output_type": "stream",
     "text": [
      "(600, 11664)\n"
     ]
    }
   ],
   "source": [
    "print(vectores_hog.shape)"
   ]
  },
  {
   "cell_type": "code",
   "execution_count": 63,
   "metadata": {},
   "outputs": [
    {
     "name": "stdout",
     "output_type": "stream",
     "text": [
      "Metrics for Random Forest with n_estimators = 10\n",
      "{'accuracy': 0.3983333333333333, 'precision_macro': 0.37885341510341514, 'recall_macro': 0.3983333333333334, 'precision_micro': 0.3983333333333333, 'recall_micro': 0.3983333333333333, 'f1_macro': 0.37320231103319335}\n",
      "Metrics for Random Forest with n_estimators = 50\n",
      "{'accuracy': 0.5199999999999999, 'precision_macro': 0.5081646825396826, 'recall_macro': 0.5199999999999999, 'precision_micro': 0.5199999999999999, 'recall_micro': 0.5199999999999999, 'f1_macro': 0.5014855977355979}\n"
     ]
    }
   ],
   "source": [
    "accuracy_test_RF = Random_Forest_model(vectores_hog,y_train)"
   ]
  },
  {
   "cell_type": "code",
   "execution_count": 62,
   "metadata": {
    "colab": {
     "base_uri": "https://localhost:8080/"
    },
    "executionInfo": {
     "elapsed": 10802,
     "status": "ok",
     "timestamp": 1709504106112,
     "user": {
      "displayName": "Rafael Turró",
      "userId": "10017933491350242166"
     },
     "user_tz": -60
    },
    "id": "is-9Az6xN6wg",
    "outputId": "2d2a74e7-b376-4e6c-fda5-4936fcd33146"
   },
   "outputs": [
    {
     "name": "stdout",
     "output_type": "stream",
     "text": [
      "Metrics for KNN with k = 1\n",
      "{'accuracy': 0.43833333333333335, 'precision_macro': 0.45641023328523334, 'recall_macro': 0.43833333333333335, 'precision_micro': 0.43833333333333335, 'recall_micro': 0.43833333333333335, 'f1_macro': 0.42491670774759005}\n",
      "Metrics for KNN with k = 5\n",
      "{'accuracy': 0.45, 'precision_macro': 0.459346718096718, 'recall_macro': 0.45, 'precision_micro': 0.45, 'recall_micro': 0.45, 'f1_macro': 0.4332321382321382}\n"
     ]
    }
   ],
   "source": [
    "#DUDA : accuracy, recall_macro ,precision_micro y recall_micro ,me dan exactamente iguales\n",
    "\n",
    "accuracy_test_KNN = KNN_model(vectores_hog,y_train)\n"
   ]
  },
  {
   "cell_type": "code",
   "execution_count": 64,
   "metadata": {
    "colab": {
     "base_uri": "https://localhost:8080/"
    },
    "executionInfo": {
     "elapsed": 422949,
     "status": "ok",
     "timestamp": 1709504533755,
     "user": {
      "displayName": "Rafael Turró",
      "userId": "10017933491350242166"
     },
     "user_tz": -60
    },
    "id": "9gs6eigWS_Co",
    "outputId": "2bfc3431-7cf7-4431-f8a0-0b2efe2b9ee6"
   },
   "outputs": [
    {
     "name": "stdout",
     "output_type": "stream",
     "text": [
      "Metrics for SVM:\n",
      "                        accuracy  precision_macro  recall_macro  \\\n",
      "SVM para kernel linear  0.641667         0.654332      0.641667   \n",
      "\n",
      "                        precision_micro  recall_micro  f1_macro  tiempo (s)  \n",
      "SVM para kernel linear         0.641667      0.641667  0.626268      510.53  \n",
      "Metrics for SVM:\n",
      "                      accuracy  precision_macro  recall_macro  \\\n",
      "SVM para kernel poly      0.65         0.656382          0.65   \n",
      "\n",
      "                      precision_micro  recall_micro  f1_macro  tiempo (s)  \n",
      "SVM para kernel poly             0.65          0.65   0.63744      557.54  \n"
     ]
    }
   ],
   "source": [
    "accuracy_test_SVM = SVM_model(vectores_hog , y_train)\n"
   ]
  },
  {
   "cell_type": "code",
   "execution_count": 65,
   "metadata": {
    "colab": {
     "base_uri": "https://localhost:8080/"
    },
    "id": "Y17U1AvkS-oO",
    "outputId": "4c18d68e-bd4e-484f-823a-67024c9b3afc"
   },
   "outputs": [
    {
     "name": "stdout",
     "output_type": "stream",
     "text": [
      "Metrics for LR model:\n",
      "                       accuracy  precision_macro  recall_macro  \\\n",
      "LR con solver = lbfgs  0.626667          0.65253      0.626667   \n",
      "\n",
      "                       precision_micro  recall_micro  f1_macro  tiempo (s)  \n",
      "LR con solver = lbfgs         0.626667      0.626667  0.621166       14.27  \n",
      "Metrics for LR model:\n",
      "                           accuracy  precision_macro  recall_macro  \\\n",
      "LR con solver = newton-cg     0.635         0.637597         0.635   \n",
      "\n",
      "                           precision_micro  recall_micro  f1_macro  tiempo (s)  \n",
      "LR con solver = newton-cg            0.635         0.635  0.619778       18.03  \n"
     ]
    }
   ],
   "source": [
    "accuracy_test_LR = LR_model(vectores_hog , y_train)"
   ]
  },
  {
   "cell_type": "code",
   "execution_count": 66,
   "metadata": {},
   "outputs": [
    {
     "name": "stdout",
     "output_type": "stream",
     "text": [
      "<class 'numpy.float64'>\n"
     ]
    }
   ],
   "source": [
    "print(type(accuracy_test_RF))"
   ]
  },
  {
   "cell_type": "code",
   "execution_count": 67,
   "metadata": {
    "id": "D9I89HMvN6wg"
   },
   "outputs": [],
   "source": [
    "acc_KNN = []\n",
    "acc_KNN.append(accuracy_test_KNN)\n",
    "acc_LR = []\n",
    "acc_LR.append(accuracy_test_LR)\n",
    "acc_SVM = []\n",
    "acc_SVM.append(accuracy_test_SVM)\n",
    "acc_RF =[]\n",
    "acc_RF.append(accuracy_test_RF)"
   ]
  },
  {
   "cell_type": "code",
   "execution_count": 68,
   "metadata": {
    "id": "vkRHfAyyN6wg",
    "outputId": "00bbed94-0177-4a18-d4f3-615000fa5020"
   },
   "outputs": [
    {
     "data": {
      "image/png": "[encoded data removed]",
      "text/plain": [
       "<Figure size 640x480 with 1 Axes>"
      ]
     },
     "metadata": {},
     "output_type": "display_data"
    }
   ],
   "source": [
    "data = [acc_LR, acc_KNN,acc_SVM,acc_RF]\n",
    "fig7, ax = plt.subplots()\n",
    "ax.set_title('Modelos')\n",
    "ax.boxplot(data,labels=['LR','KNN','SVM','RF']);"
   ]
  },
  {
   "cell_type": "code",
   "execution_count": null,
   "metadata": {
    "id": "yWRRN57SN6wh"
   },
   "outputs": [],
   "source": [
    "#train_time = []\n",
    "\n",
    "#tic = time.perf_counter()\n",
    "#ejecucion del codigo\n",
    "#toc = time.perf_counter()\n",
    "#train_time.append(round((toc-tic), 2))\n",
    "\n"
   ]
  }
 ],
 "metadata": {
  "accelerator": "GPU",
  "colab": {
   "gpuType": "T4",
   "provenance": []
  },
  "kernelspec": {
   "display_name": "Python 3 (ipykernel)",
   "language": "python",
   "name": "python3"
  },
  "language_info": {
   "codemirror_mode": {
    "name": "ipython",
    "version": 3
   },
   "file_extension": ".py",
   "mimetype": "text/x-python",
   "name": "python",
   "nbconvert_exporter": "python",
   "pygments_lexer": "ipython3",
   "version": "3.11.2"
  }
 },
 "nbformat": 4,
 "nbformat_minor": 4
}
