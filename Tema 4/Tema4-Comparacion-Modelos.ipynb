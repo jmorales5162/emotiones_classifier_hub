{
 "cells": [
  {
   "cell_type": "markdown",
   "metadata": {},
   "source": [
    "<img src=https://www.udc.es/export/sites/udc/silazarillo/_galeria_imgs/03_Simbolo_logo_cor.png_2063069294.png width=\"300\" align=\"left\">\n",
    "<br />\n",
    "\n",
    "# Aprendizaje automático I\n",
    "#### <font color=green>*Máster en Informática Industrial y Robótica*</font>"
   ]
  },
  {
   "cell_type": "markdown",
   "metadata": {},
   "source": [
    " "
   ]
  },
  {
   "cell_type": "markdown",
   "metadata": {},
   "source": [
    "# Tema 4: Comparación de modelos\n",
    "\n",
    "#### Ejemplo de uso de contrastes de hipótesis para la comparación de múltiples modelos"
   ]
  },
  {
   "cell_type": "markdown",
   "metadata": {},
   "source": [
    "#### Importación de las librerías:"
   ]
  },
  {
   "cell_type": "code",
   "execution_count": 1,
   "metadata": {},
   "outputs": [],
   "source": [
    "import numpy as np\n",
    "import pandas as pd\n",
    "import matplotlib.pyplot as plt\n",
    "import scipy.stats as stats\n",
    "from statsmodels.stats.multicomp import pairwise_tukeyhsd, MultiComparison\n",
    "from sklearn.model_selection import cross_validate\n",
    "from sklearn.linear_model import LogisticRegression\n",
    "from sklearn.discriminant_analysis import LinearDiscriminantAnalysis\n",
    "from sklearn.neighbors import KNeighborsClassifier"
   ]
  },
  {
   "cell_type": "markdown",
   "metadata": {},
   "source": [
    "#### Lectura de los datos del Iris:"
   ]
  },
  {
   "cell_type": "code",
   "execution_count": 2,
   "metadata": {},
   "outputs": [],
   "source": [
    "Datos = pd.read_csv(\"./Iris.data\", header=None)\n",
    "X = Datos.iloc[:,:-1]       \n",
    "t = Datos.iloc[:,-1].values"
   ]
  },
  {
   "cell_type": "markdown",
   "metadata": {},
   "source": [
    "#### Validación cruzada de los modelos (Logistic Regression, LDA y KNN):"
   ]
  },
  {
   "cell_type": "code",
   "execution_count": 3,
   "metadata": {},
   "outputs": [
    {
     "name": "stdout",
     "output_type": "stream",
     "text": [
      "Media del LR  :  0.9785714285714286\n",
      "Media del LDA :  0.9785714285714286\n",
      "Media del KNN :  0.9017857142857144\n"
     ]
    }
   ],
   "source": [
    "CV = 20\n",
    "scoring = ['precision_macro', 'recall_macro', 'precision_micro', 'recall_micro', 'f1_macro', 'accuracy']\n",
    "\n",
    "modelLR = LogisticRegression(penalty=None, solver = 'lbfgs', max_iter=10000, multi_class='multinomial')\n",
    "scoresLR = cross_validate(modelLR, X, t, cv=CV, scoring=scoring)\n",
    "print('Media del LR  : ', np.mean(scoresLR['test_accuracy']))\n",
    "\n",
    "modelLDA = LinearDiscriminantAnalysis()\n",
    "scoresLDA = cross_validate(modelLDA, X, t, cv=CV, scoring=scoring)\n",
    "print('Media del LDA : ', np.mean(scoresLDA['test_accuracy']))\n",
    "\n",
    "modelKNN = KNeighborsClassifier(n_neighbors=71) # Por ejemplo, con 71 vecinos sale diferencia significativa\n",
    "scoresKNN = cross_validate(modelKNN, X, t, cv=CV, scoring=scoring)\n",
    "print('Media del KNN : ', np.mean(scoresKNN['test_accuracy']))"
   ]
  },
  {
   "cell_type": "markdown",
   "metadata": {},
   "source": [
    "#### Se muestra un diagrama de cajas con los resultados de la validación cruzada:"
   ]
  },
  {
   "cell_type": "code",
   "execution_count": 4,
   "metadata": {},
   "outputs": [
    {
     "data": {
      "image/png": "[encoded data removed]",
      "text/plain": [
       "<Figure size 640x480 with 1 Axes>"
      ]
     },
     "metadata": {},
     "output_type": "display_data"
    }
   ],
   "source": [
    "data = [scoresLR['test_accuracy'], scoresLDA['test_accuracy'], scoresKNN['test_accuracy']]\n",
    "fig7, ax = plt.subplots()\n",
    "ax.set_title('Modelos')\n",
    "ax.boxplot(data,labels=['LR','LDA','KNN']);"
   ]
  },
  {
   "cell_type": "markdown",
   "metadata": {},
   "source": [
    "#### Contraste de hipótesis:\n",
    "\n",
    "Primero se muestran los resultados obtenidos aplicando el test de [Kruskall-Wallis](https://docs.scipy.org/doc/scipy/reference/generated/scipy.stats.kruskal.html#scipy.stats.kruskal) y el test de [Anova](https://docs.scipy.org/doc/scipy/reference/generated/scipy.stats.f_oneway.html). Si se rechaza la hipótesis, entonces se puede afirmar que los modelos son diferentes y, posteriormente, se aplican dos test de comparación múltiple mediante el uso de la clase [MultiComparison](https://www.statsmodels.org/stable/generated/statsmodels.sandbox.stats.multicomp.MultiComparison.html). Estos métodos comprueban si hay diferencias significativas con un p<0.05, corrigiendo el hecho de que se están haciendo múltiples comparaciones que normalmente aumentarían la probabilidad de que se identifique una diferencia significativa. Un resultado de \"reject = true\" significa que se ha observado una diferencia significativa:\n",
    "- Método de Tukey. Se emplea para ello la función [tukeyhsd](https://www.statsmodels.org/stable/generated/statsmodels.sandbox.stats.multicomp.MultiComparison.tukeyhsd.html#statsmodels.sandbox.stats.multicomp.MultiComparison.tukeyhsd).\n",
    "- Método de Holm-Bonferroni. Se emplea para ello la función [allpairtest](https://www.statsmodels.org/stable/generated/statsmodels.sandbox.stats.multicomp.MultiComparison.allpairtest.html#statsmodels.sandbox.stats.multicomp.MultiComparison.allpairtest)"
   ]
  },
  {
   "cell_type": "code",
   "execution_count": 9,
   "metadata": {},
   "outputs": [
    {
     "name": "stdout",
     "output_type": "stream",
     "text": [
      "p-valor KrusW: 0.004055591777696597\n",
      "p-valor ANOVA: 0.0007334945161872291\n",
      "Rechazamos la hipótesis: los modelos son diferentes\n",
      "\n",
      "Test Multiple Comparison ttest_rel \n",
      "FWER=0.05 method=Holm\n",
      "alphacSidak=0.02, alphacBonf=0.017\n",
      "=================================================\n",
      " group1   group2    stat   pval  pval_corr reject\n",
      "-------------------------------------------------\n",
      "modelKNN modelLDA -2.9127 0.0089    0.0268   True\n",
      "modelKNN  modelLR -2.9127 0.0089    0.0268   True\n",
      "modelLDA  modelLR     nan    nan       nan   True\n",
      "-------------------------------------------------\n",
      "  Multiple Comparison of Means - Tukey HSD, FWER=0.05  \n",
      "=======================================================\n",
      " group1   group2  meandiff p-adj   lower  upper  reject\n",
      "-------------------------------------------------------\n",
      "modelKNN modelLDA   0.0768 0.0025  0.0241 0.1294   True\n",
      "modelKNN  modelLR   0.0768 0.0025  0.0241 0.1294   True\n",
      "modelLDA  modelLR      0.0    1.0 -0.0526 0.0526  False\n",
      "-------------------------------------------------------\n"
     ]
    }
   ],
   "source": [
    "alpha = 0.01\n",
    "F_statistic, pVal = stats.kruskal(scoresLR['test_accuracy'], scoresLDA['test_accuracy'], scoresKNN['test_accuracy'])\n",
    "F_statistic2, pVal2 = stats.f_oneway(scoresLR['test_accuracy'], scoresLDA['test_accuracy'], scoresKNN['test_accuracy'])\n",
    "print ('p-valor KrusW:', pVal)\n",
    "print ('p-valor ANOVA:', pVal2)\n",
    "if pVal <= alpha:\n",
    "    print('Rechazamos la hipótesis: los modelos son diferentes\\n')\n",
    "    stacked_data = np.vstack((scoresLR['test_accuracy'],scoresLDA['test_accuracy'],scoresKNN['test_accuracy'])).ravel()\n",
    "    stacked_model = np.vstack((np.repeat('modelLR',CV),np.repeat('modelLDA',CV),np.repeat('modelKNN',CV))).ravel()    \n",
    "    MultiComp = MultiComparison(stacked_data, stacked_model)\n",
    "    comp = MultiComp.allpairtest(stats.ttest_rel, method='Holm')\n",
    "    print (comp[0])    \n",
    "    print(MultiComp.tukeyhsd(alpha=0.05))\n",
    "else:\n",
    "    print('Aceptamos la hipótesis: los modelos son iguales')"
   ]
  },
  {
   "cell_type": "code",
   "execution_count": null,
   "metadata": {},
   "outputs": [],
   "source": []
  },
  {
   "cell_type": "code",
   "execution_count": null,
   "metadata": {},
   "outputs": [],
   "source": []
  }
 ],
 "metadata": {
  "kernelspec": {
   "display_name": "Python 3 (Spyder)",
   "language": "python3",
   "name": "python3"
  },
  "language_info": {
   "codemirror_mode": {
    "name": "ipython",
    "version": 3
   },
   "file_extension": ".py",
   "mimetype": "text/x-python",
   "name": "python",
   "nbconvert_exporter": "python",
   "pygments_lexer": "ipython3",
   "version": "3.11.5"
  }
 },
 "nbformat": 4,
 "nbformat_minor": 4
}
